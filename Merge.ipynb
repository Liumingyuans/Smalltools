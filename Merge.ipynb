{
 "cells": [
  {
   "cell_type": "code",
   "execution_count": null,
   "metadata": {
    "collapsed": false
   },
   "outputs": [],
   "source": [
    "#把要合併的檔案放在 filenames裡\n",
    "filenames = ['Ainy.csv', 'CARMEX.csv','Deary.csv','DHC.csv','Dior.csv','ettusais.csv','FOREVER.csv','JILLSTUART.csv',\\\n",
    "            'Kanebo.csv','MAC.csv','MENTHOLATUM.csv','NaturalKiss.csv','SHISEIDO.csv','URIAGE.csv','Vaseline.csv','Whoo.csv']\n",
    "with open('4.txt', 'w') as outfile:\n",
    "    for fname in filenames:\n",
    "        with open(fname) as infile:\n",
    "            for line in infile:\n",
    "                outfile.write(line)\n",
    "open('5.txt','w').writelines(set(open('4.txt','r').readlines()))\n",
    "#總結:\n",
    "#1.txt,2.txt,3.txt為要合併的檔\n",
    "#4.txt為全部檔案加總 (有重複字串)\n",
    "#5.txt為最終檔 (已刪除重複自串)"
   ]
  },
  {
   "cell_type": "code",
   "execution_count": 6,
   "metadata": {
    "collapsed": false
   },
   "outputs": [
    {
     "name": "stdout",
     "output_type": "stream",
     "text": [
      "['1028.csv', 'Aesop.csv', 'Ainy.csv', 'ALBION.csv', 'AQUA LABEL.csv', 'AVIVA.csv', 'AYURA.csv', 'a`rin.csv', 'BASEFORMULA.csv', 'BEAUTYMAKER.csv', 'belif.csv', 'Bielenda.csv', 'Bioderma.csv', 'Biore.csv', 'Boots.csv', 'BORGHESE.csv', 'CARMEX.csv', 'Centella.csv', 'Cetaphil.csv', 'CHANEL.csv', 'Clarisonic.csv', 'cledepeauBeaute.csv', 'CLINIQUE.csv', 'Conova.csv', 'CosmeDecorte.csv', 'Deary.csv', 'DHC.csv', 'Dior.csv', 'divinia.csv', \"Dr'sFormula.csv\", 'DR_WU.csv', 'DyFee.csv', 'ElizabethArden.csv', 'ENDOCARE.csv', 'enviedeneuf.csv', 'ERH.csv', 'ERNOLASZLO.csv', 'ESCENTS.csv', 'EsteeLauder.csv', 'ettusais.csv', 'ETUDE.csv', 'Fasio.csv', 'FOREVER.csv', 'FRANCENA.csv', 'Fresh.csv', 'Freshel.csv', 'GamilaSecret.csv', 'GIORGIOARMANI.csv', 'GLYCEL.csv', 'GUERLAIN.csv', 'Hada-Labo.csv', 'heme.csv', 'HiruSOFT.csv', 'innisfree.csv', 'IPSA.csv', 'JILLSTUART.csv', 'Kanebo.csv', 'KesalanPatharan.csv', 'KIEHL`S.csv', 'KISSME.csv', 'KISSUI.csv', 'KOSE.csv', 'kuanyuanlian.csv', 'LA MELIVEYA.csv', 'LA ROCHE-POSAY.csv', 'LANCOME.csv', 'LANEIGE.csv', 'LUSH.csv', 'L`EGERE.csv', 'L`OREALPARiS.csv', 'M.A.C.csv', 'MAC.csv', 'MAYBELLINE.csv', 'MegRhythm.csv', 'MENTHOLATUM.csv', 'MISSHA.csv', 'MODAmassa.csv', 'MOMUS.csv', 'MONGYA.csv', 'motives.csv', 'NaturalKiss.csv', 'Neogence.csv', 'NeoStrata.csv', 'Neutrogena.csv', 'NuSkin.csv', 'OHUI.csv', 'ORBIS.csv', 'PAUL&JOE.csv', 'Paula`sChoice.csv', 'philosophy.csv', 'PinNatural.csv', 'piu.csv', 'SANOFI.csv', 'Sebamed.csv', 'SHISEIDO.csv', 'shuuemura.csv', 'SK-II.csv', 'SkinPotion.csv', 'SOFINA.csv', 'Softymo.csv', 'SoniaRykiel.csv', 'SooRyeHan.csv', 'Stiefe.csv', 'Sulwhasoo.csv', 'SUNTORY.csv', 'TAIYEN.csv', 'TheBodyShop.csv', 'THERAPIND.csv', 'TISS.csv', 'URIAGE.csv', 'Vaseline.csv', 'VICHY.csv', 'WHITEFORMULA.csv', 'Whoo.csv', 'WSPA.csv', 'YSL.csv', 'Yuskin.csv', 'Za.csv']\n"
     ]
    }
   ],
   "source": [
    "import os\n",
    "import re\n",
    "dirName = 'text' \n",
    "file_array = os.listdir('{}'.format(dirName)) \n",
    "print file_array\n",
    "for i in range(0,len(file_array)):\n",
    "#for j in range(1,3000):\n",
    "    filename = file_array[i]\n",
    "    path = dirName+'/'+ filename\n",
    "    with open('4.txt', 'w') as outfile:\n",
    "        for fname in file_array:\n",
    "            with open(path) as infile:\n",
    "                for line in infile:\n",
    "                    outfile.write(line)\n",
    "    open('5.txt','w').writelines(set(open('4.txt','r').readlines())) "
   ]
  },
  {
   "cell_type": "code",
   "execution_count": null,
   "metadata": {
    "collapsed": true
   },
   "outputs": [],
   "source": []
  }
 ],
 "metadata": {
  "kernelspec": {
   "display_name": "Python 2",
   "language": "python",
   "name": "python2"
  },
  "language_info": {
   "codemirror_mode": {
    "name": "ipython",
    "version": 2
   },
   "file_extension": ".py",
   "mimetype": "text/x-python",
   "name": "python",
   "nbconvert_exporter": "python",
   "pygments_lexer": "ipython2",
   "version": "2.7.10"
  }
 },
 "nbformat": 4,
 "nbformat_minor": 0
}
